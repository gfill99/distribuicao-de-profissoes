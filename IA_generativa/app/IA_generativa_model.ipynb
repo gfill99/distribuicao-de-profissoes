{
 "cells": [
  {
   "cell_type": "code",
   "execution_count": null,
   "id": "82507121",
   "metadata": {},
   "outputs": [],
   "source": [
    "# Importa as bibliotecas necessárias\n",
    "import os\n",
    "from dotenv import load_dotenv, find_dotenv\n",
    "import groq\n",
    "import json\n",
    "import sys\n",
    "from dotenv import load_dotenv\n",
    "\n",
    "# Adiciona o caminho do diretório acima no sys.path para importar o módulo configs\n",
    "sys.path.append(os.path.abspath('../..'))\n",
    "\n",
    "# Importa o módulo de configuração e mapeia as pastas no ambiente\n",
    "import configs as cf\n",
    "cf.mapeia_pastas()"
   ]
  },
  {
   "cell_type": "code",
   "execution_count": null,
   "id": "5511041b",
   "metadata": {},
   "outputs": [],
   "source": [
    "# Define o caminho para os arquivos JSON de resultados e o arquivo de prompt\n",
    "caminho = \"../../analise_de_dados/result/\"\n",
    "caminho_prompt = \"../utils/\""
   ]
  },
  {
   "cell_type": "code",
   "execution_count": null,
   "id": "5afdda70",
   "metadata": {},
   "outputs": [],
   "source": [
    "# Função para ler arquivos, tratando .txt e .json de forma diferente\n",
    "def ler_arquivo(caminho, nome_arquivo):\n",
    "\tcaminho_completo = caminho + nome_arquivo\n",
    "\twith open(caminho_completo, 'r', encoding='utf-8') as arquivo:\n",
    "\t\tif '.txt' in caminho_completo:\n",
    "\t\t\treturn arquivo.read()\n",
    "\t\telse:\n",
    "\t\t\treturn json.load(arquivo)"
   ]
  },
  {
   "cell_type": "code",
   "execution_count": 47,
   "id": "6673477a",
   "metadata": {},
   "outputs": [],
   "source": [
    "json_advogados = ler_arquivo(caminho, 'advogados.json')\n",
    "json_contadores = ler_arquivo(caminho, 'contadores.json')\n",
    "json_engenheiros = ler_arquivo(caminho, 'engenheiros.json')\n",
    "json_psicologos = ler_arquivo(caminho, 'psicologos.json')\n",
    "json_maiores_estados_feminino = ler_arquivo(caminho, 'maiores_estados_feminino.json')\n",
    "json_maiores_estados_masculino = ler_arquivo(caminho, 'maiores_estados_masculino.json')"
   ]
  },
  {
   "cell_type": "code",
   "execution_count": 48,
   "id": "64a46a37",
   "metadata": {},
   "outputs": [
    {
     "data": {
      "text/plain": [
       "[{'nome_estado': 'São Paulo', 'total_advogados': 378352},\n",
       " {'nome_estado': 'Rio de Janeiro', 'total_advogados': 159025},\n",
       " {'nome_estado': 'Minas Gerais', 'total_advogados': 144147},\n",
       " {'nome_estado': 'Rio Grande do Sul', 'total_advogados': 98688},\n",
       " {'nome_estado': 'Paraná', 'total_advogados': 91891},\n",
       " {'nome_estado': 'Bahia', 'total_advogados': 61935},\n",
       " {'nome_estado': 'Goiás', 'total_advogados': 53791}]"
      ]
     },
     "execution_count": 48,
     "metadata": {},
     "output_type": "execute_result"
    }
   ],
   "source": [
    "json_advogados"
   ]
  },
  {
   "cell_type": "code",
   "execution_count": 49,
   "id": "cf2a554f",
   "metadata": {},
   "outputs": [
    {
     "data": {
      "text/plain": [
       "[{'nome_estado': 'São Paulo', 'total_contadores': 105830},\n",
       " {'nome_estado': 'Rio de Janeiro', 'total_contadores': 38143},\n",
       " {'nome_estado': 'Minas Gerais', 'total_contadores': 36471},\n",
       " {'nome_estado': 'Paraná', 'total_contadores': 27960},\n",
       " {'nome_estado': 'Rio Grande do Sul', 'total_contadores': 25996},\n",
       " {'nome_estado': 'Santa Catarina', 'total_contadores': 19056},\n",
       " {'nome_estado': 'Bahia', 'total_contadores': 16811}]"
      ]
     },
     "execution_count": 49,
     "metadata": {},
     "output_type": "execute_result"
    }
   ],
   "source": [
    "json_contadores"
   ]
  },
  {
   "cell_type": "code",
   "execution_count": 50,
   "id": "acf10897",
   "metadata": {},
   "outputs": [
    {
     "data": {
      "text/plain": [
       "[{'nome_estado': 'São Paulo', 'total_engenheiros': 334936},\n",
       " {'nome_estado': 'Minas Gerais', 'total_engenheiros': 154335},\n",
       " {'nome_estado': 'Rio de Janeiro', 'total_engenheiros': 117187},\n",
       " {'nome_estado': 'Paraná', 'total_engenheiros': 71868},\n",
       " {'nome_estado': 'Rio Grande do Sul', 'total_engenheiros': 68162},\n",
       " {'nome_estado': 'Bahia', 'total_engenheiros': 51638},\n",
       " {'nome_estado': 'Santa Catarina', 'total_engenheiros': 47872}]"
      ]
     },
     "execution_count": 50,
     "metadata": {},
     "output_type": "execute_result"
    }
   ],
   "source": [
    "json_engenheiros"
   ]
  },
  {
   "cell_type": "code",
   "execution_count": 51,
   "id": "71adb2c9",
   "metadata": {},
   "outputs": [
    {
     "data": {
      "text/plain": [
       "[{'nome_estado': 'São Paulo', 'total_psicologos': 154690},\n",
       " {'nome_estado': 'Rio de Janeiro', 'total_psicologos': 59158},\n",
       " {'nome_estado': 'Minas Gerais', 'total_psicologos': 57498},\n",
       " {'nome_estado': 'Paraná', 'total_psicologos': 31757},\n",
       " {'nome_estado': 'Rio Grande do Sul', 'total_psicologos': 31681},\n",
       " {'nome_estado': 'Bahia', 'total_psicologos': 24672},\n",
       " {'nome_estado': 'Santa Catarina', 'total_psicologos': 20702}]"
      ]
     },
     "execution_count": 51,
     "metadata": {},
     "output_type": "execute_result"
    }
   ],
   "source": [
    "json_psicologos"
   ]
  },
  {
   "cell_type": "code",
   "execution_count": 52,
   "id": "85cfe870",
   "metadata": {},
   "outputs": [
    {
     "data": {
      "text/plain": [
       "[{'nome_estado': 'São Paulo',\n",
       "  'advogadas': 197236.0,\n",
       "  'contadoras': 56528.0,\n",
       "  'engenheiras': 53124.0,\n",
       "  'psicologas': 132077.0,\n",
       "  'total_feminino': 438965.0},\n",
       " {'nome_estado': 'Rio de Janeiro',\n",
       "  'advogadas': 84602.0,\n",
       "  'contadoras': 20288.0,\n",
       "  'engenheiras': 23618.0,\n",
       "  'psicologas': 50682.0,\n",
       "  'total_feminino': 179190.0},\n",
       " {'nome_estado': 'Minas Gerais',\n",
       "  'advogadas': 74205.0,\n",
       "  'contadoras': 17903.0,\n",
       "  'engenheiras': 32656.0,\n",
       "  'psicologas': 48465.0,\n",
       "  'total_feminino': 173229.0},\n",
       " {'nome_estado': 'Rio Grande do Sul',\n",
       "  'advogadas': 51660.0,\n",
       "  'contadoras': 12378.0,\n",
       "  'engenheiras': 14061.0,\n",
       "  'psicologas': 27680.0,\n",
       "  'total_feminino': 105779.0},\n",
       " {'nome_estado': 'Paraná',\n",
       "  'advogadas': 47022.0,\n",
       "  'contadoras': 15933.0,\n",
       "  'engenheiras': 13595.0,\n",
       "  'psicologas': 27062.0,\n",
       "  'total_feminino': 103612.0},\n",
       " {'nome_estado': 'Bahia',\n",
       "  'advogadas': 33281.0,\n",
       "  'contadoras': 9497.0,\n",
       "  'engenheiras': 12202.0,\n",
       "  'psicologas': 21113.0,\n",
       "  'total_feminino': 76093.0},\n",
       " {'nome_estado': 'Santa Catarina',\n",
       "  'advogadas': 27023.0,\n",
       "  'contadoras': 9728.0,\n",
       "  'engenheiras': 10400.0,\n",
       "  'psicologas': 17963.0,\n",
       "  'total_feminino': 65114.0}]"
      ]
     },
     "execution_count": 52,
     "metadata": {},
     "output_type": "execute_result"
    }
   ],
   "source": [
    "json_maiores_estados_feminino"
   ]
  },
  {
   "cell_type": "code",
   "execution_count": 53,
   "id": "84871a59",
   "metadata": {},
   "outputs": [
    {
     "data": {
      "text/plain": [
       "[{'nome_estado': 'São Paulo',\n",
       "  'advogados': 181116.0,\n",
       "  'contadores': 49302.0,\n",
       "  'engenheiros': 281812.0,\n",
       "  'psicologos': 22613.0,\n",
       "  'total_masculino': 534843.0},\n",
       " {'nome_estado': 'Minas Gerais',\n",
       "  'advogados': 69942.0,\n",
       "  'contadores': 18568.0,\n",
       "  'engenheiros': 121679.0,\n",
       "  'psicologos': 9033.0,\n",
       "  'total_masculino': 219222.0},\n",
       " {'nome_estado': 'Rio de Janeiro',\n",
       "  'advogados': 74423.0,\n",
       "  'contadores': 17855.0,\n",
       "  'engenheiros': 93569.0,\n",
       "  'psicologos': 8476.0,\n",
       "  'total_masculino': 194323.0},\n",
       " {'nome_estado': 'Paraná',\n",
       "  'advogados': 44869.0,\n",
       "  'contadores': 12027.0,\n",
       "  'engenheiros': 58273.0,\n",
       "  'psicologos': 4695.0,\n",
       "  'total_masculino': 119864.0},\n",
       " {'nome_estado': 'Rio Grande do Sul',\n",
       "  'advogados': 47028.0,\n",
       "  'contadores': 13618.0,\n",
       "  'engenheiros': 54101.0,\n",
       "  'psicologos': 4001.0,\n",
       "  'total_masculino': 118748.0},\n",
       " {'nome_estado': 'Bahia',\n",
       "  'advogados': 28654.0,\n",
       "  'contadores': 7314.0,\n",
       "  'engenheiros': 39436.0,\n",
       "  'psicologos': 3559.0,\n",
       "  'total_masculino': 78963.0},\n",
       " {'nome_estado': 'Santa Catarina',\n",
       "  'advogados': 25110.0,\n",
       "  'contadores': 9328.0,\n",
       "  'engenheiros': 37472.0,\n",
       "  'psicologos': 2739.0,\n",
       "  'total_masculino': 74649.0}]"
      ]
     },
     "execution_count": 53,
     "metadata": {},
     "output_type": "execute_result"
    }
   ],
   "source": [
    "json_maiores_estados_masculino"
   ]
  },
  {
   "cell_type": "code",
   "execution_count": 54,
   "id": "2719740b",
   "metadata": {},
   "outputs": [],
   "source": [
    "prompt = ler_arquivo(caminho_prompt, 'prompts.txt')"
   ]
  },
  {
   "cell_type": "code",
   "execution_count": null,
   "id": "31d2c96b",
   "metadata": {},
   "outputs": [
    {
     "data": {
      "text/plain": [
       "True"
      ]
     },
     "execution_count": 55,
     "metadata": {},
     "output_type": "execute_result"
    }
   ],
   "source": [
    "# Carrega variáveis de ambiente do arquivo .env\n",
    "load_dotenv(dotenv_path='../utils/.env')"
   ]
  },
  {
   "cell_type": "code",
   "execution_count": null,
   "id": "a3739116",
   "metadata": {},
   "outputs": [],
   "source": [
    "# Cria uma solicitação de chat para o modelo Groq usando as informações carregadas\n",
    "client = groq.Groq(\n",
    "    api_key=os.environ.get(\"GROQ_API_KEY\"),\n",
    ")\n",
    "\n",
    "chat_completion = client.chat.completions.create(\n",
    "    messages=[ # Define a mensagem que será enviada ao modelo\n",
    "        {\n",
    "            \"role\": \"user\",\n",
    "            \"content\": f\"{prompt}{json_advogados}{json_contadores}{json_engenheiros}{json_psicologos}{json_maiores_estados_masculino}{json_maiores_estados_masculino}\",\n",
    "        }\n",
    "    ],\n",
    "    model=\"llama-3.3-70b-versatile\", # Define a versão que será utilizada\n",
    ")\n"
   ]
  },
  {
   "cell_type": "code",
   "execution_count": null,
   "id": "ea844b27",
   "metadata": {},
   "outputs": [
    {
     "name": "stdout",
     "output_type": "stream",
     "text": [
      "**Análise de Dados:Profissões e Gênero nos Estados Mais Populosos do Brasil**\n",
      "\n",
      "**Introdução**\n",
      "\n",
      "Como analista de dados especialista em estudos sobre mercado de trabalho e diversidade de gênero, realizei uma análise detalhada dos arquivos `.json` fornecidos, que contêm informações sobre a quantidade de profissionais (advogados, contadores, engenheiros e psicólogos) nos estados mais populosos do Brasil, segmentados por gênero (masculino e feminino). O objetivo desta análise é identificar a profissão mais equilibrada e a mais desigual entre os gêneros, calcular a diferença percentual entre homens e mulheres por profissão e fornecer insights sobre as possíveis causas para as diferenças de gênero observadas.\n",
      "\n",
      "**Método**\n",
      "\n",
      "Para realizar esta análise, foram seguidos os passos abaixo:\n",
      "\n",
      "1. **Incorporação da Persona**: Como analista de dados, adotei uma abordagem metódica e atenta a detalhes para garantir a qualidade e a precisão dos resultados.\n",
      "2. **Análise dos Arquivos `.json`**: Foram analisados os arquivos `.json` fornecidos, que contêm informações sobre a quantidade de profissionais por estado e gênero.\n",
      "3. **Cálculos de Diferença Percentual**: Foram calculadas as diferenças percentuais entre homens e mulheres por profissão e estado.\n",
      "4. **Levantamento das Profissões mais Equilibradas e mais Desiguais**: Foram identificadas as profissões mais equilibradas e mais desiguais entre os gêneros, com base nas diferenças percentuais calculadas.\n",
      "\n",
      "**Resultados**\n",
      "\n",
      "**Tabela de Diferenças Percentuais**\n",
      "\n",
      "| Profissão | % Masculino | % Feminino | Diferença Percentual |\n",
      "| --- | --- | --- | --- |\n",
      "| Advogados | 67,3% | 32,7% | 34,6% |\n",
      "| Contadores | 73,4% | 26,6% | 46,8% |\n",
      "| Engenheiros | 85,1% | 14,9% | 70,2% |\n",
      "| Psicólogos | 24,5% | 75,5% | -51,0% |\n",
      "\n",
      "**Principais Conclusões**\n",
      "\n",
      "* A profissão mais equilibrada entre os gêneros é a de Psicólogos, com uma diferença percentual de -51,0%, indicando que há mais mulheres do que homens nessa profissão.\n",
      "* A profissão mais desigual entre os gêneros é a de Engenheiros, com uma diferença percentual de 70,2%, indicando que há muitos mais homens do que mulheres nessa profissão.\n",
      "* A profissão com a maior presença feminina é a de Psicólogos, com 75,5% de mulheres.\n",
      "* A profissão com a maior presença masculina é a de Engenheiros, com 85,1% de homens.\n",
      "* A profissão com a menor diferença percentual (cenário mais equilibrado) é a de Psicólogos, com uma diferença percentual de -51,0%.\n",
      "* A profissão com a maior diferença percentual (cenário mais desigual) é a de Engenheiros, com uma diferença percentual de 70,2%.\n",
      "\n",
      "**Comentário Interpretativo**\n",
      "\n",
      "As diferenças de gênero observadas nas profissões analisadas podem ser atribuídas a uma combinação de fatores históricos, culturais e sociais. Por exemplo, a profissão de Engenheiros é historicamente associada a homens, e a falta de representação feminina nessa área pode ser resultado de estereótipos de gênero e de barreiras para a entrada de mulheres nessa profissão. Por outro lado, a profissão de Psicólogos é mais recentemente associada a mulheres, e a maior presença feminina nessa área pode ser resultado de mudanças sociais e culturais que valorizam a empatia e a comunicação, habilidades tradicionalmente associadas a mulheres.\n",
      "\n",
      "Além disso, a falta de diversidade de gênero em algumas profissões pode ter implicações importantes para a sociedade, como a limitação de oportunidades para indivíduos de diferentes gêneros e a perpetuação de estereótipos de gênero. Portanto, é fundamental que sejam implementadas políticas e programas para promover a diversidade de gênero e a igualdade de oportunidades em todas as profissões.\n",
      "\n",
      "**Conclusão**\n",
      "\n",
      "Em resumo, a análise realizada forneceu insights importantes sobre as diferenças de gênero nas profissões analisadas. A identificação das profissões mais equilibradas e mais desiguais entre os gêneros pode ajudar a informar políticas e programas para promover a diversidade de gênero e a igualdade de oportunidades em todas as profissões. Além disso, a compreensão das possíveis causas para as diferenças de gênero observadas pode ajudar a desenvolver estratégias eficazes para superar essas barreiras e promover a igualdade de gênero no mercado de trabalho.\n"
     ]
    }
   ],
   "source": [
    "print(chat_completion.choices[0].message.content)"
   ]
  }
 ],
 "metadata": {
  "kernelspec": {
   "display_name": "Python 3",
   "language": "python",
   "name": "python3"
  },
  "language_info": {
   "codemirror_mode": {
    "name": "ipython",
    "version": 3
   },
   "file_extension": ".py",
   "mimetype": "text/x-python",
   "name": "python",
   "nbconvert_exporter": "python",
   "pygments_lexer": "ipython3",
   "version": "3.12.4"
  }
 },
 "nbformat": 4,
 "nbformat_minor": 5
}
