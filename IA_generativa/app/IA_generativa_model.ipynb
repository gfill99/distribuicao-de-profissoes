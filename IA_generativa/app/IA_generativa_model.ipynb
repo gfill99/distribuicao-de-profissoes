{
 "cells": [
  {
   "cell_type": "code",
   "execution_count": 16,
   "id": "82507121",
   "metadata": {},
   "outputs": [],
   "source": [
    "import os\n",
    "from dotenv import load_dotenv, find_dotenv\n",
    "import groq\n",
    "import json\n",
    "import sys\n",
    "from dotenv import load_dotenv\n",
    "\n",
    "sys.path.append(os.path.abspath('../..'))\n",
    "import configs as cf\n",
    "cf.mapeia_pastas()"
   ]
  },
  {
   "cell_type": "code",
   "execution_count": 17,
   "id": "5511041b",
   "metadata": {},
   "outputs": [],
   "source": [
    "caminho = \"../../analise_de_dados/result/\"\n",
    "caminho_prompt = \"../utils/\""
   ]
  },
  {
   "cell_type": "code",
   "execution_count": 18,
   "id": "5afdda70",
   "metadata": {},
   "outputs": [],
   "source": [
    "def ler_arquivo(caminho, nome_arquivo):\n",
    "\tcaminho_completo = caminho + nome_arquivo\n",
    "\twith open(caminho_completo, 'r', encoding='utf-8') as arquivo:\n",
    "\t\tif '.txt' in caminho_completo:\n",
    "\t\t\treturn arquivo.read()\n",
    "\t\telse:\n",
    "\t\t\treturn json.load(arquivo)"
   ]
  },
  {
   "cell_type": "code",
   "execution_count": 19,
   "id": "6673477a",
   "metadata": {},
   "outputs": [],
   "source": [
    "json_advogados = ler_arquivo(caminho, 'advogados.json')\n",
    "json_contadores = ler_arquivo(caminho, 'contadores.json')\n",
    "json_engenheiros = ler_arquivo(caminho, 'engenheiros.json')\n",
    "json_psicologos = ler_arquivo(caminho, 'psicologos.json')\n",
    "json_maiores_estados_feminino = ler_arquivo(caminho, 'maiores_estados_feminino.json')\n",
    "json_maiores_estados_masculino = ler_arquivo(caminho, 'maiores_estados_masculino.json')"
   ]
  },
  {
   "cell_type": "code",
   "execution_count": 20,
   "id": "64a46a37",
   "metadata": {},
   "outputs": [
    {
     "data": {
      "text/plain": [
       "[{'nome_estado': 'São Paulo', 'total_advogados': 378352},\n",
       " {'nome_estado': 'Rio de Janeiro', 'total_advogados': 159025},\n",
       " {'nome_estado': 'Minas Gerais', 'total_advogados': 144147},\n",
       " {'nome_estado': 'Rio Grande do Sul', 'total_advogados': 98688},\n",
       " {'nome_estado': 'Paraná', 'total_advogados': 91891},\n",
       " {'nome_estado': 'Bahia', 'total_advogados': 61935},\n",
       " {'nome_estado': 'Goiás', 'total_advogados': 53791}]"
      ]
     },
     "execution_count": 20,
     "metadata": {},
     "output_type": "execute_result"
    }
   ],
   "source": [
    "json_advogados"
   ]
  },
  {
   "cell_type": "code",
   "execution_count": 21,
   "id": "cf2a554f",
   "metadata": {},
   "outputs": [
    {
     "data": {
      "text/plain": [
       "[{'nome_estado': 'São Paulo', 'total_contadores': 105830},\n",
       " {'nome_estado': 'Rio de Janeiro', 'total_contadores': 38143},\n",
       " {'nome_estado': 'Minas Gerais', 'total_contadores': 36471},\n",
       " {'nome_estado': 'Paraná', 'total_contadores': 27960},\n",
       " {'nome_estado': 'Rio Grande do Sul', 'total_contadores': 25996},\n",
       " {'nome_estado': 'Santa Catarina', 'total_contadores': 19056},\n",
       " {'nome_estado': 'Bahia', 'total_contadores': 16811}]"
      ]
     },
     "execution_count": 21,
     "metadata": {},
     "output_type": "execute_result"
    }
   ],
   "source": [
    "json_contadores"
   ]
  },
  {
   "cell_type": "code",
   "execution_count": 22,
   "id": "acf10897",
   "metadata": {},
   "outputs": [
    {
     "data": {
      "text/plain": [
       "[{'nome_estado': 'São Paulo', 'total_engenheiros': 334936},\n",
       " {'nome_estado': 'Minas Gerais', 'total_engenheiros': 154335},\n",
       " {'nome_estado': 'Rio de Janeiro', 'total_engenheiros': 117187},\n",
       " {'nome_estado': 'Paraná', 'total_engenheiros': 71868},\n",
       " {'nome_estado': 'Rio Grande do Sul', 'total_engenheiros': 68162},\n",
       " {'nome_estado': 'Bahia', 'total_engenheiros': 51638},\n",
       " {'nome_estado': 'Santa Catarina', 'total_engenheiros': 47872}]"
      ]
     },
     "execution_count": 22,
     "metadata": {},
     "output_type": "execute_result"
    }
   ],
   "source": [
    "json_engenheiros"
   ]
  },
  {
   "cell_type": "code",
   "execution_count": 23,
   "id": "71adb2c9",
   "metadata": {},
   "outputs": [
    {
     "data": {
      "text/plain": [
       "[{'nome_estado': 'São Paulo', 'total_psicologos': 154690},\n",
       " {'nome_estado': 'Rio de Janeiro', 'total_psicologos': 59158},\n",
       " {'nome_estado': 'Minas Gerais', 'total_psicologos': 57498},\n",
       " {'nome_estado': 'Paraná', 'total_psicologos': 31757},\n",
       " {'nome_estado': 'Rio Grande do Sul', 'total_psicologos': 31681},\n",
       " {'nome_estado': 'Bahia', 'total_psicologos': 24672},\n",
       " {'nome_estado': 'Santa Catarina', 'total_psicologos': 20702}]"
      ]
     },
     "execution_count": 23,
     "metadata": {},
     "output_type": "execute_result"
    }
   ],
   "source": [
    "json_psicologos"
   ]
  },
  {
   "cell_type": "code",
   "execution_count": 24,
   "id": "85cfe870",
   "metadata": {},
   "outputs": [
    {
     "data": {
      "text/plain": [
       "[{'nome_estado': 'São Paulo',\n",
       "  'advogadas': 197236.0,\n",
       "  'contadoras': 56528.0,\n",
       "  'engenheiras': 53124.0,\n",
       "  'psicologas': 132077.0,\n",
       "  'total_feminino': 438965.0},\n",
       " {'nome_estado': 'Rio de Janeiro',\n",
       "  'advogadas': 84602.0,\n",
       "  'contadoras': 20288.0,\n",
       "  'engenheiras': 23618.0,\n",
       "  'psicologas': 50682.0,\n",
       "  'total_feminino': 179190.0},\n",
       " {'nome_estado': 'Minas Gerais',\n",
       "  'advogadas': 74205.0,\n",
       "  'contadoras': 17903.0,\n",
       "  'engenheiras': 32656.0,\n",
       "  'psicologas': 48465.0,\n",
       "  'total_feminino': 173229.0},\n",
       " {'nome_estado': 'Rio Grande do Sul',\n",
       "  'advogadas': 51660.0,\n",
       "  'contadoras': 12378.0,\n",
       "  'engenheiras': 14061.0,\n",
       "  'psicologas': 27680.0,\n",
       "  'total_feminino': 105779.0},\n",
       " {'nome_estado': 'Paraná',\n",
       "  'advogadas': 47022.0,\n",
       "  'contadoras': 15933.0,\n",
       "  'engenheiras': 13595.0,\n",
       "  'psicologas': 27062.0,\n",
       "  'total_feminino': 103612.0},\n",
       " {'nome_estado': 'Bahia',\n",
       "  'advogadas': 33281.0,\n",
       "  'contadoras': 9497.0,\n",
       "  'engenheiras': 12202.0,\n",
       "  'psicologas': 21113.0,\n",
       "  'total_feminino': 76093.0},\n",
       " {'nome_estado': 'Santa Catarina',\n",
       "  'advogadas': 27023.0,\n",
       "  'contadoras': 9728.0,\n",
       "  'engenheiras': 10400.0,\n",
       "  'psicologas': 17963.0,\n",
       "  'total_feminino': 65114.0}]"
      ]
     },
     "execution_count": 24,
     "metadata": {},
     "output_type": "execute_result"
    }
   ],
   "source": [
    "json_maiores_estados_feminino"
   ]
  },
  {
   "cell_type": "code",
   "execution_count": 25,
   "id": "84871a59",
   "metadata": {},
   "outputs": [
    {
     "data": {
      "text/plain": [
       "[{'nome_estado': 'São Paulo',\n",
       "  'advogados': 181116.0,\n",
       "  'contadores': 49302.0,\n",
       "  'engenheiros': 281812.0,\n",
       "  'psicologos': 22613.0,\n",
       "  'total_masculino': 534843.0},\n",
       " {'nome_estado': 'Minas Gerais',\n",
       "  'advogados': 69942.0,\n",
       "  'contadores': 18568.0,\n",
       "  'engenheiros': 121679.0,\n",
       "  'psicologos': 9033.0,\n",
       "  'total_masculino': 219222.0},\n",
       " {'nome_estado': 'Rio de Janeiro',\n",
       "  'advogados': 74423.0,\n",
       "  'contadores': 17855.0,\n",
       "  'engenheiros': 93569.0,\n",
       "  'psicologos': 8476.0,\n",
       "  'total_masculino': 194323.0},\n",
       " {'nome_estado': 'Paraná',\n",
       "  'advogados': 44869.0,\n",
       "  'contadores': 12027.0,\n",
       "  'engenheiros': 58273.0,\n",
       "  'psicologos': 4695.0,\n",
       "  'total_masculino': 119864.0},\n",
       " {'nome_estado': 'Rio Grande do Sul',\n",
       "  'advogados': 47028.0,\n",
       "  'contadores': 13618.0,\n",
       "  'engenheiros': 54101.0,\n",
       "  'psicologos': 4001.0,\n",
       "  'total_masculino': 118748.0},\n",
       " {'nome_estado': 'Bahia',\n",
       "  'advogados': 28654.0,\n",
       "  'contadores': 7314.0,\n",
       "  'engenheiros': 39436.0,\n",
       "  'psicologos': 3559.0,\n",
       "  'total_masculino': 78963.0},\n",
       " {'nome_estado': 'Santa Catarina',\n",
       "  'advogados': 25110.0,\n",
       "  'contadores': 9328.0,\n",
       "  'engenheiros': 37472.0,\n",
       "  'psicologos': 2739.0,\n",
       "  'total_masculino': 74649.0}]"
      ]
     },
     "execution_count": 25,
     "metadata": {},
     "output_type": "execute_result"
    }
   ],
   "source": [
    "json_maiores_estados_masculino"
   ]
  },
  {
   "cell_type": "code",
   "execution_count": 26,
   "id": "2719740b",
   "metadata": {},
   "outputs": [],
   "source": [
    "prompt = ler_arquivo(caminho_prompt, 'prompts.txt')"
   ]
  },
  {
   "cell_type": "code",
   "execution_count": 27,
   "id": "31d2c96b",
   "metadata": {},
   "outputs": [
    {
     "data": {
      "text/plain": [
       "True"
      ]
     },
     "execution_count": 27,
     "metadata": {},
     "output_type": "execute_result"
    }
   ],
   "source": [
    "load_dotenv(dotenv_path='../utils/.env')"
   ]
  },
  {
   "cell_type": "code",
   "execution_count": 28,
   "id": "a3739116",
   "metadata": {},
   "outputs": [],
   "source": [
    "client = groq.Groq(\n",
    "    api_key=os.environ.get(\"GROQ_API_KEY\"),\n",
    ")\n",
    "\n",
    "chat_completion = client.chat.completions.create(\n",
    "    messages=[\n",
    "        {\n",
    "            \"role\": \"user\",\n",
    "            \"content\": f\"{prompt}{json_advogados}{json_contadores}{json_engenheiros}{json_psicologos}{json_maiores_estados_masculino}{json_maiores_estados_masculino}\",\n",
    "        }\n",
    "    ],\n",
    "    model=\"llama-3.3-70b-versatile\",\n",
    ")\n"
   ]
  },
  {
   "cell_type": "code",
   "execution_count": 29,
   "id": "ea844b27",
   "metadata": {},
   "outputs": [
    {
     "name": "stdout",
     "output_type": "stream",
     "text": [
      "**Análise de Dados: Profissionais por Gênero e Profissão**\n",
      "\n",
      "Para realizar a análise, foram utilizados os arquivos `maiores_estados_feminino.json` e `maiores_estados_masculino.json`, que contêm informações sobre a quantidade de profissionais por gênero e profissão nos estados mais populosos do Brasil.\n",
      "\n",
      "**Cálculo da Diferença Percentual**\n",
      "\n",
      "Primeiramente, calculou-se o total de profissionais por profissão e gênero, somando os valores de todos os estados. Em seguida, calculou-se o percentual de cada gênero por profissão com base nos totais.\n",
      "\n",
      "| Profissão | Total Masculino | Total Feminino | % Masculino | % Feminino | Diferença Percentual |\n",
      "| --- | --- | --- | --- | --- | --- |\n",
      "| Advogados | 378352 | 196912 | 65,7% | 34,3% | 31,4% |\n",
      "| Contadores | 105830 | 53141 | 66,6% | 33,4% | 33,2% |\n",
      "| Engenheiros | 334936 | 143445 | 70,1% | 29,9% | 40,2% |\n",
      "| Psicólogos | 154690 | 104321 | 59,7% | 40,3% | 19,4% |\n",
      "\n",
      "**Identificação das Profissões**\n",
      "\n",
      "Com base nos resultados, foram identificadas as profissões com maior presença feminina, masculina, mais equilibrada e mais desigual:\n",
      "\n",
      "* Profissão com maior presença feminina: Psicólogos (40,3% de mulheres)\n",
      "* Profissão com maior presença masculina: Engenheiros (70,1% de homens)\n",
      "* Profissão mais equilibrada: Psicólogos (diferença percentual de 19,4%)\n",
      "* Profissão mais desigual: Engenheiros (diferença percentual de 40,2%)\n",
      "\n",
      "**Resumo Descritivo**\n",
      "\n",
      "A análise dos dados revelou que os psicólogos têm a maior presença feminina, com 40,3% de mulheres, enquanto os engenheiros têm a maior presença masculina, com 70,1% de homens. A profissão mais equilibrada é a de psicólogo, com uma diferença percentual de 19,4%, enquanto a profissão mais desigual é a de engenheiro, com uma diferença percentual de 40,2%.\n",
      "\n",
      "**Sugestões de Visualização**\n",
      "\n",
      "Para ilustrar os dados, sugiro utilizar gráficos de barras para comparar a quantidade de profissionais por gênero e profissão, bem como gráficos de pizza para mostrar a distribuição percentual de cada gênero por profissão. Além disso, um gráfico de linha pode ser utilizado para mostrar a evolução da diferença percentual entre homens e mulheres por profissão ao longo do tempo.\n"
     ]
    }
   ],
   "source": [
    "print(chat_completion.choices[0].message.content)"
   ]
  }
 ],
 "metadata": {
  "kernelspec": {
   "display_name": "Python 3",
   "language": "python",
   "name": "python3"
  },
  "language_info": {
   "codemirror_mode": {
    "name": "ipython",
    "version": 3
   },
   "file_extension": ".py",
   "mimetype": "text/x-python",
   "name": "python",
   "nbconvert_exporter": "python",
   "pygments_lexer": "ipython3",
   "version": "3.12.4"
  }
 },
 "nbformat": 4,
 "nbformat_minor": 5
}
