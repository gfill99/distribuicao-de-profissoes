{
 "cells": [
  {
   "cell_type": "code",
   "execution_count": 20,
   "id": "82507121",
   "metadata": {},
   "outputs": [],
   "source": [
    "import os\n",
    "from dotenv import load_dotenv, find_dotenv\n",
    "import groq\n",
    "import json\n",
    "import sys\n",
    "\n",
    "sys.path.append(os.path.abspath('../..'))\n",
    "import configs as cf\n",
    "cf.mapeia_pastas()"
   ]
  },
  {
   "cell_type": "code",
   "execution_count": 21,
   "id": "2d5d1a35",
   "metadata": {},
   "outputs": [],
   "source": [
    "caminho_json_advogados = 'c:/Users/Gabriel/Desktop/distribuicao_profissao/distribuicao-de-profissoes/analise_de_dados/result/advogados.json'\n",
    "caminho_json_contadores = 'c:/Users/Gabriel/Desktop/distribuicao_profissao/distribuicao-de-profissoes/analise_de_dados/result/contadores.json'\n",
    "caminho_json_engenheiros = 'c:/Users/Gabriel/Desktop/distribuicao_profissao/distribuicao-de-profissoes/analise_de_dados/result/engenheiros.json'\n",
    "caminho_json_psicologos = 'c:/Users/Gabriel/Desktop/distribuicao_profissao/distribuicao-de-profissoes/analise_de_dados/result/psicologos.json'\n",
    "caminho_json_maiores_estados_feminino = 'c:/Users/Gabriel/Desktop/distribuicao_profissao/distribuicao-de-profissoes/analise_de_dados/result/maiores_estados_feminino.json'\n",
    "caminho_json_maiores_estados_masculino = 'c:/Users/Gabriel/Desktop/distribuicao_profissao/distribuicao-de-profissoes/analise_de_dados/result/maiores_estados_masculino.json'"
   ]
  },
  {
   "cell_type": "code",
   "execution_count": 22,
   "id": "5afdda70",
   "metadata": {},
   "outputs": [],
   "source": [
    "def abrir_json(caminho):\n",
    "# Abrir e carregar o JSON\n",
    "    with open(caminho, 'r', encoding='utf-8') as arquivo:\n",
    "        conteudo = json.load(arquivo)\n",
    "        return conteudo"
   ]
  },
  {
   "cell_type": "code",
   "execution_count": 23,
   "id": "6673477a",
   "metadata": {},
   "outputs": [],
   "source": [
    "json_advogados = abrir_json(caminho_json_advogados)\n",
    "json_contadores = abrir_json(caminho_json_contadores)\n",
    "json_engenheiros = abrir_json(caminho_json_engenheiros)\n",
    "json_psicologos = abrir_json(caminho_json_psicologos)\n",
    "json_maiores_estados_feminino = abrir_json(caminho_json_maiores_estados_feminino)\n",
    "json_maiores_estados_masculino = abrir_json(caminho_json_maiores_estados_masculino)"
   ]
  },
  {
   "cell_type": "code",
   "execution_count": 24,
   "id": "64a46a37",
   "metadata": {},
   "outputs": [
    {
     "data": {
      "text/plain": [
       "[{'nome_estado': 'São Paulo', 'total_advogados': 378352},\n",
       " {'nome_estado': 'Rio de Janeiro', 'total_advogados': 159025},\n",
       " {'nome_estado': 'Minas Gerais', 'total_advogados': 144147},\n",
       " {'nome_estado': 'Rio Grande do Sul', 'total_advogados': 98688},\n",
       " {'nome_estado': 'Paraná', 'total_advogados': 91891},\n",
       " {'nome_estado': 'Bahia', 'total_advogados': 61935},\n",
       " {'nome_estado': 'Goiás', 'total_advogados': 53791}]"
      ]
     },
     "execution_count": 24,
     "metadata": {},
     "output_type": "execute_result"
    }
   ],
   "source": [
    "json_advogados"
   ]
  },
  {
   "cell_type": "code",
   "execution_count": 25,
   "id": "cf2a554f",
   "metadata": {},
   "outputs": [
    {
     "data": {
      "text/plain": [
       "[{'nome_estado': 'São Paulo', 'total_contadores': 105830},\n",
       " {'nome_estado': 'Rio de Janeiro', 'total_contadores': 38143},\n",
       " {'nome_estado': 'Minas Gerais', 'total_contadores': 36471},\n",
       " {'nome_estado': 'Paraná', 'total_contadores': 27960},\n",
       " {'nome_estado': 'Rio Grande do Sul', 'total_contadores': 25996},\n",
       " {'nome_estado': 'Santa Catarina', 'total_contadores': 19056},\n",
       " {'nome_estado': 'Bahia', 'total_contadores': 16811}]"
      ]
     },
     "execution_count": 25,
     "metadata": {},
     "output_type": "execute_result"
    }
   ],
   "source": [
    "json_contadores"
   ]
  },
  {
   "cell_type": "code",
   "execution_count": 26,
   "id": "acf10897",
   "metadata": {},
   "outputs": [
    {
     "data": {
      "text/plain": [
       "[{'nome_estado': 'São Paulo', 'total_engenheiros': 334936},\n",
       " {'nome_estado': 'Minas Gerais', 'total_engenheiros': 154335},\n",
       " {'nome_estado': 'Rio de Janeiro', 'total_engenheiros': 117187},\n",
       " {'nome_estado': 'Paraná', 'total_engenheiros': 71868},\n",
       " {'nome_estado': 'Rio Grande do Sul', 'total_engenheiros': 68162},\n",
       " {'nome_estado': 'Bahia', 'total_engenheiros': 51638},\n",
       " {'nome_estado': 'Santa Catarina', 'total_engenheiros': 47872}]"
      ]
     },
     "execution_count": 26,
     "metadata": {},
     "output_type": "execute_result"
    }
   ],
   "source": [
    "json_engenheiros"
   ]
  },
  {
   "cell_type": "code",
   "execution_count": 27,
   "id": "71adb2c9",
   "metadata": {},
   "outputs": [
    {
     "data": {
      "text/plain": [
       "[{'nome_estado': 'São Paulo', 'total_psicologos': 154690},\n",
       " {'nome_estado': 'Rio de Janeiro', 'total_psicologos': 59158},\n",
       " {'nome_estado': 'Minas Gerais', 'total_psicologos': 57498},\n",
       " {'nome_estado': 'Paraná', 'total_psicologos': 31757},\n",
       " {'nome_estado': 'Rio Grande do Sul', 'total_psicologos': 31681},\n",
       " {'nome_estado': 'Bahia', 'total_psicologos': 24672},\n",
       " {'nome_estado': 'Santa Catarina', 'total_psicologos': 20702}]"
      ]
     },
     "execution_count": 27,
     "metadata": {},
     "output_type": "execute_result"
    }
   ],
   "source": [
    "json_psicologos"
   ]
  },
  {
   "cell_type": "code",
   "execution_count": 28,
   "id": "85cfe870",
   "metadata": {},
   "outputs": [
    {
     "data": {
      "text/plain": [
       "[{'nome_estado': 'São Paulo',\n",
       "  'advogadas': 197236.0,\n",
       "  'contadoras': 56528.0,\n",
       "  'engenheiras': 53124.0,\n",
       "  'psicologas': 132077.0,\n",
       "  'total_feminino': 438965.0},\n",
       " {'nome_estado': 'Rio de Janeiro',\n",
       "  'advogadas': 84602.0,\n",
       "  'contadoras': 20288.0,\n",
       "  'engenheiras': 23618.0,\n",
       "  'psicologas': 50682.0,\n",
       "  'total_feminino': 179190.0},\n",
       " {'nome_estado': 'Minas Gerais',\n",
       "  'advogadas': 74205.0,\n",
       "  'contadoras': 17903.0,\n",
       "  'engenheiras': 32656.0,\n",
       "  'psicologas': 48465.0,\n",
       "  'total_feminino': 173229.0},\n",
       " {'nome_estado': 'Rio Grande do Sul',\n",
       "  'advogadas': 51660.0,\n",
       "  'contadoras': 12378.0,\n",
       "  'engenheiras': 14061.0,\n",
       "  'psicologas': 27680.0,\n",
       "  'total_feminino': 105779.0},\n",
       " {'nome_estado': 'Paraná',\n",
       "  'advogadas': 47022.0,\n",
       "  'contadoras': 15933.0,\n",
       "  'engenheiras': 13595.0,\n",
       "  'psicologas': 27062.0,\n",
       "  'total_feminino': 103612.0},\n",
       " {'nome_estado': 'Bahia',\n",
       "  'advogadas': 33281.0,\n",
       "  'contadoras': 9497.0,\n",
       "  'engenheiras': 12202.0,\n",
       "  'psicologas': 21113.0,\n",
       "  'total_feminino': 76093.0},\n",
       " {'nome_estado': 'Santa Catarina',\n",
       "  'advogadas': 27023.0,\n",
       "  'contadoras': 9728.0,\n",
       "  'engenheiras': 10400.0,\n",
       "  'psicologas': 17963.0,\n",
       "  'total_feminino': 65114.0}]"
      ]
     },
     "execution_count": 28,
     "metadata": {},
     "output_type": "execute_result"
    }
   ],
   "source": [
    "json_maiores_estados_feminino"
   ]
  },
  {
   "cell_type": "code",
   "execution_count": 29,
   "id": "84871a59",
   "metadata": {},
   "outputs": [
    {
     "data": {
      "text/plain": [
       "[{'nome_estado': 'São Paulo',\n",
       "  'advogados': 181116.0,\n",
       "  'contadores': 49302.0,\n",
       "  'engenheiros': 281812.0,\n",
       "  'psicologos': 22613.0,\n",
       "  'total_masculino': 534843.0},\n",
       " {'nome_estado': 'Minas Gerais',\n",
       "  'advogados': 69942.0,\n",
       "  'contadores': 18568.0,\n",
       "  'engenheiros': 121679.0,\n",
       "  'psicologos': 9033.0,\n",
       "  'total_masculino': 219222.0},\n",
       " {'nome_estado': 'Rio de Janeiro',\n",
       "  'advogados': 74423.0,\n",
       "  'contadores': 17855.0,\n",
       "  'engenheiros': 93569.0,\n",
       "  'psicologos': 8476.0,\n",
       "  'total_masculino': 194323.0},\n",
       " {'nome_estado': 'Paraná',\n",
       "  'advogados': 44869.0,\n",
       "  'contadores': 12027.0,\n",
       "  'engenheiros': 58273.0,\n",
       "  'psicologos': 4695.0,\n",
       "  'total_masculino': 119864.0},\n",
       " {'nome_estado': 'Rio Grande do Sul',\n",
       "  'advogados': 47028.0,\n",
       "  'contadores': 13618.0,\n",
       "  'engenheiros': 54101.0,\n",
       "  'psicologos': 4001.0,\n",
       "  'total_masculino': 118748.0},\n",
       " {'nome_estado': 'Bahia',\n",
       "  'advogados': 28654.0,\n",
       "  'contadores': 7314.0,\n",
       "  'engenheiros': 39436.0,\n",
       "  'psicologos': 3559.0,\n",
       "  'total_masculino': 78963.0},\n",
       " {'nome_estado': 'Santa Catarina',\n",
       "  'advogados': 25110.0,\n",
       "  'contadores': 9328.0,\n",
       "  'engenheiros': 37472.0,\n",
       "  'psicologos': 2739.0,\n",
       "  'total_masculino': 74649.0}]"
      ]
     },
     "execution_count": 29,
     "metadata": {},
     "output_type": "execute_result"
    }
   ],
   "source": [
    "json_maiores_estados_masculino"
   ]
  },
  {
   "cell_type": "code",
   "execution_count": 30,
   "id": "78cd0558",
   "metadata": {},
   "outputs": [],
   "source": [
    "caminho_txt = 'c:/Users/Gabriel/Desktop/distribuicao_profissao/distribuicao-de-profissoes/IA_generativa/utils/prompts.txt'"
   ]
  },
  {
   "cell_type": "code",
   "execution_count": 31,
   "id": "363549f3",
   "metadata": {},
   "outputs": [],
   "source": [
    "def ler_txt(caminho):    \n",
    "    with open(caminho, 'r', encoding='utf-8') as arquivo:\n",
    "        conteudo = arquivo.read()\n",
    "        return conteudo"
   ]
  },
  {
   "cell_type": "code",
   "execution_count": 32,
   "id": "2719740b",
   "metadata": {},
   "outputs": [],
   "source": [
    "prompt = ler_txt(caminho_txt)"
   ]
  },
  {
   "cell_type": "code",
   "execution_count": 33,
   "id": "fb19b4a2",
   "metadata": {},
   "outputs": [
    {
     "name": "stdout",
     "output_type": "stream",
     "text": [
      "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\n"
     ]
    }
   ],
   "source": [
    "print(os.environ.get(\"GROQ_API_KEY\"))"
   ]
  },
  {
   "cell_type": "code",
   "execution_count": 34,
   "id": "a3739116",
   "metadata": {},
   "outputs": [],
   "source": [
    "client = groq.Groq(\n",
    "    api_key=os.environ.get(\"GROQ_API_KEY\"),\n",
    ")\n",
    "\n",
    "chat_completion = client.chat.completions.create(\n",
    "    messages=[\n",
    "        {\n",
    "            \"role\": \"user\",\n",
    "            \"content\": f\"{prompt}\" f\"{json_advogados}\" f\"{json_contadores}\" f\"{json_engenheiros}\" f\"{json_psicologos}\" f\"{json_maiores_estados_masculino}\" f\"{json_maiores_estados_masculino}\",\n",
    "        }\n",
    "    ],\n",
    "    model=\"llama-3.3-70b-versatile\",\n",
    ")\n"
   ]
  },
  {
   "cell_type": "code",
   "execution_count": 35,
   "id": "ea844b27",
   "metadata": {},
   "outputs": [
    {
     "name": "stdout",
     "output_type": "stream",
     "text": [
      "**Análise dos Dados**\n",
      "\n",
      "Os dados fornecidos são compostos por 6 listas de dicionários, cada uma representando uma categoria de profissionais (advogados, contadores, engenheiros, psicólogos) e suas respectivas quantidades em diferentes estados do Brasil.\n",
      "\n",
      "**Categorias e Quantidades**\n",
      "\n",
      "1. **Advogados**: São Paulo tem o maior número de advogados (378.352), seguido de Rio de Janeiro (159.025) e Minas Gerais (144.147).\n",
      "2. **Contadores**: São Paulo tem o maior número de contadores (105.830), seguido de Minas Gerais (36.471) e Paraná (27.960).\n",
      "3. **Engenheiros**: São Paulo tem o maior número de engenheiros (334.936), seguido de Minas Gerais (154.335) e Rio de Janeiro (117.187).\n",
      "4. **Psicólogos**: São Paulo tem o maior número de psicólogos (154.690), seguido de Rio de Janeiro (59.158) e Minas Gerais (57.498).\n",
      "\n",
      "**Distribuição por Estado**\n",
      "\n",
      "Os estados com maiores quantidades de profissionais são:\n",
      "\n",
      "* São Paulo: 378.352 advogados, 105.830 contadores, 334.936 engenheiros e 154.690 psicólogos.\n",
      "* Rio de Janeiro: 159.025 advogados, 38.143 contadores, 117.187 engenheiros e 59.158 psicólogos.\n",
      "* Minas Gerais: 144.147 advogados, 36.471 contadores, 154.335 engenheiros e 57.498 psicólogos.\n",
      "\n",
      "**Distribuição por Gênero**\n",
      "\n",
      "As listas 5 e 6 fornecem informações sobre a distribuição por gênero para advogados, contadores, engenheiros e psicólogos. No entanto, essas listas são idênticas, o que sugere que podem ser um erro de digitação.\n",
      "\n",
      "**Conclusão**\n",
      "\n",
      "Os dados fornecidos oferecem uma visão geral da distribuição de profissionais em diferentes estados do Brasil. São Paulo é o estado com o maior número de profissionais em todas as categorias. No entanto, é importante notar que as listas 5 e 6 são idênticas, o que pode indicar um erro de digitação.\n",
      "\n",
      "**Recomendações**\n",
      "\n",
      "* Verificar a exatidão das listas 5 e 6 para garantir que elas estejam corretas.\n",
      "* Realizar uma análise mais aprofundada das distribuições por estado e categoria para identificar tendências e padrões.\n",
      "* Considerar a criação de gráficos e tabelas para ilustrar as distribuições e facilitar a compreensão dos dados.\n"
     ]
    }
   ],
   "source": [
    "print(chat_completion.choices[0].message.content)"
   ]
  }
 ],
 "metadata": {
  "kernelspec": {
   "display_name": "Python 3",
   "language": "python",
   "name": "python3"
  },
  "language_info": {
   "codemirror_mode": {
    "name": "ipython",
    "version": 3
   },
   "file_extension": ".py",
   "mimetype": "text/x-python",
   "name": "python",
   "nbconvert_exporter": "python",
   "pygments_lexer": "ipython3",
   "version": "3.12.4"
  }
 },
 "nbformat": 4,
 "nbformat_minor": 5
}
