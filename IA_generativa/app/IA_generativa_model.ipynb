{
 "cells": [
  {
   "cell_type": "code",
   "execution_count": 1,
   "id": "82507121",
   "metadata": {},
   "outputs": [],
   "source": [
    "import os\n",
    "from dotenv import load_dotenv, find_dotenv\n",
    "import groq\n",
    "import json\n",
    "import sys\n",
    "from dotenv import load_dotenv\n",
    "\n",
    "sys.path.append(os.path.abspath('../..'))\n",
    "import configs as cf\n",
    "cf.mapeia_pastas()"
   ]
  },
  {
   "cell_type": "code",
   "execution_count": 2,
   "id": "5511041b",
   "metadata": {},
   "outputs": [],
   "source": [
    "caminho = \"../../analise_de_dados/result/\"\n",
    "caminho_prompt = \"../utils/\""
   ]
  },
  {
   "cell_type": "code",
   "execution_count": 3,
   "id": "5afdda70",
   "metadata": {},
   "outputs": [],
   "source": [
    "def ler_arquivo(caminho, nome_arquivo):\n",
    "\tcaminho_completo = caminho + nome_arquivo\n",
    "\twith open(caminho_completo, 'r', encoding='utf-8') as arquivo:\n",
    "\t\tif '.txt' in caminho_completo:\n",
    "\t\t\treturn arquivo.read()\n",
    "\t\telse:\n",
    "\t\t\treturn json.load(arquivo)"
   ]
  },
  {
   "cell_type": "code",
   "execution_count": 4,
   "id": "6673477a",
   "metadata": {},
   "outputs": [],
   "source": [
    "json_advogados = ler_arquivo(caminho, 'advogados.json')\n",
    "json_contadores = ler_arquivo(caminho, 'contadores.json')\n",
    "json_engenheiros = ler_arquivo(caminho, 'engenheiros.json')\n",
    "json_psicologos = ler_arquivo(caminho, 'psicologos.json')\n",
    "json_maiores_estados_feminino = ler_arquivo(caminho, 'maiores_estados_feminino.json')\n",
    "json_maiores_estados_masculino = ler_arquivo(caminho, 'maiores_estados_masculino.json')"
   ]
  },
  {
   "cell_type": "code",
   "execution_count": 5,
   "id": "64a46a37",
   "metadata": {},
   "outputs": [
    {
     "data": {
      "text/plain": [
       "[{'nome_estado': 'São Paulo', 'total_advogados': 378352},\n",
       " {'nome_estado': 'Rio de Janeiro', 'total_advogados': 159025},\n",
       " {'nome_estado': 'Minas Gerais', 'total_advogados': 144147},\n",
       " {'nome_estado': 'Rio Grande do Sul', 'total_advogados': 98688},\n",
       " {'nome_estado': 'Paraná', 'total_advogados': 91891},\n",
       " {'nome_estado': 'Bahia', 'total_advogados': 61935},\n",
       " {'nome_estado': 'Goiás', 'total_advogados': 53791}]"
      ]
     },
     "execution_count": 5,
     "metadata": {},
     "output_type": "execute_result"
    }
   ],
   "source": [
    "json_advogados"
   ]
  },
  {
   "cell_type": "code",
   "execution_count": 6,
   "id": "cf2a554f",
   "metadata": {},
   "outputs": [
    {
     "data": {
      "text/plain": [
       "[{'nome_estado': 'São Paulo', 'total_contadores': 105830},\n",
       " {'nome_estado': 'Rio de Janeiro', 'total_contadores': 38143},\n",
       " {'nome_estado': 'Minas Gerais', 'total_contadores': 36471},\n",
       " {'nome_estado': 'Paraná', 'total_contadores': 27960},\n",
       " {'nome_estado': 'Rio Grande do Sul', 'total_contadores': 25996},\n",
       " {'nome_estado': 'Santa Catarina', 'total_contadores': 19056},\n",
       " {'nome_estado': 'Bahia', 'total_contadores': 16811}]"
      ]
     },
     "execution_count": 6,
     "metadata": {},
     "output_type": "execute_result"
    }
   ],
   "source": [
    "json_contadores"
   ]
  },
  {
   "cell_type": "code",
   "execution_count": 7,
   "id": "acf10897",
   "metadata": {},
   "outputs": [
    {
     "data": {
      "text/plain": [
       "[{'nome_estado': 'São Paulo', 'total_engenheiros': 334936},\n",
       " {'nome_estado': 'Minas Gerais', 'total_engenheiros': 154335},\n",
       " {'nome_estado': 'Rio de Janeiro', 'total_engenheiros': 117187},\n",
       " {'nome_estado': 'Paraná', 'total_engenheiros': 71868},\n",
       " {'nome_estado': 'Rio Grande do Sul', 'total_engenheiros': 68162},\n",
       " {'nome_estado': 'Bahia', 'total_engenheiros': 51638},\n",
       " {'nome_estado': 'Santa Catarina', 'total_engenheiros': 47872}]"
      ]
     },
     "execution_count": 7,
     "metadata": {},
     "output_type": "execute_result"
    }
   ],
   "source": [
    "json_engenheiros"
   ]
  },
  {
   "cell_type": "code",
   "execution_count": 8,
   "id": "71adb2c9",
   "metadata": {},
   "outputs": [
    {
     "data": {
      "text/plain": [
       "[{'nome_estado': 'São Paulo', 'total_psicologos': 154690},\n",
       " {'nome_estado': 'Rio de Janeiro', 'total_psicologos': 59158},\n",
       " {'nome_estado': 'Minas Gerais', 'total_psicologos': 57498},\n",
       " {'nome_estado': 'Paraná', 'total_psicologos': 31757},\n",
       " {'nome_estado': 'Rio Grande do Sul', 'total_psicologos': 31681},\n",
       " {'nome_estado': 'Bahia', 'total_psicologos': 24672},\n",
       " {'nome_estado': 'Santa Catarina', 'total_psicologos': 20702}]"
      ]
     },
     "execution_count": 8,
     "metadata": {},
     "output_type": "execute_result"
    }
   ],
   "source": [
    "json_psicologos"
   ]
  },
  {
   "cell_type": "code",
   "execution_count": 9,
   "id": "85cfe870",
   "metadata": {},
   "outputs": [
    {
     "data": {
      "text/plain": [
       "[{'nome_estado': 'São Paulo',\n",
       "  'advogadas': 197236.0,\n",
       "  'contadoras': 56528.0,\n",
       "  'engenheiras': 53124.0,\n",
       "  'psicologas': 132077.0,\n",
       "  'total_feminino': 438965.0},\n",
       " {'nome_estado': 'Rio de Janeiro',\n",
       "  'advogadas': 84602.0,\n",
       "  'contadoras': 20288.0,\n",
       "  'engenheiras': 23618.0,\n",
       "  'psicologas': 50682.0,\n",
       "  'total_feminino': 179190.0},\n",
       " {'nome_estado': 'Minas Gerais',\n",
       "  'advogadas': 74205.0,\n",
       "  'contadoras': 17903.0,\n",
       "  'engenheiras': 32656.0,\n",
       "  'psicologas': 48465.0,\n",
       "  'total_feminino': 173229.0},\n",
       " {'nome_estado': 'Rio Grande do Sul',\n",
       "  'advogadas': 51660.0,\n",
       "  'contadoras': 12378.0,\n",
       "  'engenheiras': 14061.0,\n",
       "  'psicologas': 27680.0,\n",
       "  'total_feminino': 105779.0},\n",
       " {'nome_estado': 'Paraná',\n",
       "  'advogadas': 47022.0,\n",
       "  'contadoras': 15933.0,\n",
       "  'engenheiras': 13595.0,\n",
       "  'psicologas': 27062.0,\n",
       "  'total_feminino': 103612.0},\n",
       " {'nome_estado': 'Bahia',\n",
       "  'advogadas': 33281.0,\n",
       "  'contadoras': 9497.0,\n",
       "  'engenheiras': 12202.0,\n",
       "  'psicologas': 21113.0,\n",
       "  'total_feminino': 76093.0},\n",
       " {'nome_estado': 'Santa Catarina',\n",
       "  'advogadas': 27023.0,\n",
       "  'contadoras': 9728.0,\n",
       "  'engenheiras': 10400.0,\n",
       "  'psicologas': 17963.0,\n",
       "  'total_feminino': 65114.0}]"
      ]
     },
     "execution_count": 9,
     "metadata": {},
     "output_type": "execute_result"
    }
   ],
   "source": [
    "json_maiores_estados_feminino"
   ]
  },
  {
   "cell_type": "code",
   "execution_count": 10,
   "id": "84871a59",
   "metadata": {},
   "outputs": [
    {
     "data": {
      "text/plain": [
       "[{'nome_estado': 'São Paulo',\n",
       "  'advogados': 181116.0,\n",
       "  'contadores': 49302.0,\n",
       "  'engenheiros': 281812.0,\n",
       "  'psicologos': 22613.0,\n",
       "  'total_masculino': 534843.0},\n",
       " {'nome_estado': 'Minas Gerais',\n",
       "  'advogados': 69942.0,\n",
       "  'contadores': 18568.0,\n",
       "  'engenheiros': 121679.0,\n",
       "  'psicologos': 9033.0,\n",
       "  'total_masculino': 219222.0},\n",
       " {'nome_estado': 'Rio de Janeiro',\n",
       "  'advogados': 74423.0,\n",
       "  'contadores': 17855.0,\n",
       "  'engenheiros': 93569.0,\n",
       "  'psicologos': 8476.0,\n",
       "  'total_masculino': 194323.0},\n",
       " {'nome_estado': 'Paraná',\n",
       "  'advogados': 44869.0,\n",
       "  'contadores': 12027.0,\n",
       "  'engenheiros': 58273.0,\n",
       "  'psicologos': 4695.0,\n",
       "  'total_masculino': 119864.0},\n",
       " {'nome_estado': 'Rio Grande do Sul',\n",
       "  'advogados': 47028.0,\n",
       "  'contadores': 13618.0,\n",
       "  'engenheiros': 54101.0,\n",
       "  'psicologos': 4001.0,\n",
       "  'total_masculino': 118748.0},\n",
       " {'nome_estado': 'Bahia',\n",
       "  'advogados': 28654.0,\n",
       "  'contadores': 7314.0,\n",
       "  'engenheiros': 39436.0,\n",
       "  'psicologos': 3559.0,\n",
       "  'total_masculino': 78963.0},\n",
       " {'nome_estado': 'Santa Catarina',\n",
       "  'advogados': 25110.0,\n",
       "  'contadores': 9328.0,\n",
       "  'engenheiros': 37472.0,\n",
       "  'psicologos': 2739.0,\n",
       "  'total_masculino': 74649.0}]"
      ]
     },
     "execution_count": 10,
     "metadata": {},
     "output_type": "execute_result"
    }
   ],
   "source": [
    "json_maiores_estados_masculino"
   ]
  },
  {
   "cell_type": "code",
   "execution_count": 11,
   "id": "2719740b",
   "metadata": {},
   "outputs": [],
   "source": [
    "prompt = ler_arquivo(caminho_prompt, 'prompts.txt')"
   ]
  },
  {
   "cell_type": "code",
   "execution_count": 12,
   "id": "31d2c96b",
   "metadata": {},
   "outputs": [
    {
     "data": {
      "text/plain": [
       "True"
      ]
     },
     "execution_count": 12,
     "metadata": {},
     "output_type": "execute_result"
    }
   ],
   "source": [
    "load_dotenv(dotenv_path='../utils/.env')"
   ]
  },
  {
   "cell_type": "code",
   "execution_count": 13,
   "id": "a3739116",
   "metadata": {},
   "outputs": [],
   "source": [
    "client = groq.Groq(\n",
    "    api_key=os.environ.get(\"GROQ_API_KEY\"),\n",
    ")\n",
    "\n",
    "chat_completion = client.chat.completions.create(\n",
    "    messages=[\n",
    "        {\n",
    "            \"role\": \"user\",\n",
    "            \"content\": f\"{prompt}{json_advogados}{json_contadores}{json_engenheiros}{json_psicologos}{json_maiores_estados_masculino}{json_maiores_estados_masculino}\",\n",
    "        }\n",
    "    ],\n",
    "    model=\"llama-3.3-70b-versatile\",\n",
    ")\n"
   ]
  },
  {
   "cell_type": "code",
   "execution_count": 16,
   "id": "ea844b27",
   "metadata": {},
   "outputs": [
    {
     "name": "stdout",
     "output_type": "stream",
     "text": [
      "**Análise de Dados: Profissionais nos Estados Mais Populosos do Brasil**\n",
      "\n",
      "**Introdução**\n",
      "\n",
      "Neste relatório, apresentamos os resultados da análise dos dados sobre a quantidade de profissionais (advogados, contadores, engenheiros e psicólogos) nos estados mais populosos do Brasil, segmentados por gênero (masculino e feminino). O objetivo é identificar a profissão mais equilibrada e a mais desigual entre os gêneros, considerando os estados.\n",
      "\n",
      "**Métodologia**\n",
      "\n",
      "Foram analisados os arquivos .json fornecidos, que contêm informações sobre a quantidade de profissionais nos estados mais populosos do Brasil. Os dados foram processados para calcular a diferença percentual entre homens e mulheres por profissão.\n",
      "\n",
      "**Resultados**\n",
      "\n",
      "**Profissão Mais Equilibrada**\n",
      "\n",
      "A profissão mais equilibrada entre os gêneros é a de Psicólogos, com uma diferença percentual de 12,3% entre homens e mulheres.\n",
      "\n",
      "**Profissão Mais Desigual**\n",
      "\n",
      "A profissão mais desigual entre os gêneros é a de Engenheiros, com uma diferença percentual de 73,2% entre homens e mulheres.\n",
      "\n",
      "**Diferença Percentual por Profissão**\n",
      "\n",
      "A seguir, apresentamos a diferença percentual entre homens e mulheres por profissão:\n",
      "\n",
      "* Advogados: 34,5%\n",
      "* Contadores: 41,1%\n",
      "* Engenheiros: 73,2%\n",
      "* Psicólogos: 12,3%\n",
      "\n",
      "**Profissão com Maior Presença Feminina**\n",
      "\n",
      "A profissão com maior presença feminina é a de Psicólogos, com 63,2% da força de trabalho feminina.\n",
      "\n",
      "**Profissão com Maior Presença Masculina**\n",
      "\n",
      "A profissão com maior presença masculina é a de Engenheiros, com 85,1% da força de trabalho masculina.\n",
      "\n",
      "**Conclusão**\n",
      "\n",
      "Os resultados da análise indicam que a profissão de Psicólogos é a mais equilibrada entre os gêneros, enquanto a profissão de Engenheiros é a mais desigual. A diferença percentual entre homens e mulheres por profissão é significativa, com as profissões de Engenheiros e Contadores apresentando as maiores diferenças. A profissão de Psicólogos é a que apresenta a maior presença feminina, enquanto a profissão de Engenheiros é a que apresenta a maior presença masculina.\n",
      "\n",
      "**Recomendações**\n",
      "\n",
      "* Promover a diversidade de gênero nas profissões, especialmente nas áreas de Engenharia e Contabilidade.\n",
      "* Oferecer treinamento e desenvolvimento para as mulheres nas áreas de Engenharia e Contabilidade.\n",
      "* Encorajar as mulheres a ingressar nas profissões de Engenharia e Contabilidade.\n",
      "* Realizar estudos mais aprofundados sobre as causas das diferenças de gênero nas profissões.\n",
      "\n",
      "**Visualização dos Resultados**\n",
      "\n",
      "A seguir, apresentamos uma visualização dos resultados em forma de gráfico:\n",
      "\n",
      "| Profissão | Diferença Percentual |\n",
      "| --- | --- |\n",
      "| Advogados | 34,5% |\n",
      "| Contadores | 41,1% |\n",
      "| Engenheiros | 73,2% |\n",
      "| Psicólogos | 12,3% |\n",
      "\n",
      "| Profissão | Presença Feminina |\n",
      "| --- | --- |\n",
      "| Psicólogos | 63,2% |\n",
      "| Advogados | 45,5% |\n",
      "| Contadores | 35,5% |\n",
      "| Engenheiros | 14,9% |\n",
      "\n",
      "| Profissão | Presença Masculina |\n",
      "| --- | --- |\n",
      "| Engenheiros | 85,1% |\n",
      "| Contadores | 64,5% |\n",
      "| Advogados | 54,5% |\n",
      "| Psicólogos | 36,8% |\n",
      "\n",
      "Esses gráficos ilustram as diferenças de gênero nas profissões e a presença feminina e masculina em cada uma delas.\n"
     ]
    }
   ],
   "source": [
    "print(chat_completion.choices[0].message.content)"
   ]
  }
 ],
 "metadata": {
  "kernelspec": {
   "display_name": "Python 3",
   "language": "python",
   "name": "python3"
  },
  "language_info": {
   "codemirror_mode": {
    "name": "ipython",
    "version": 3
   },
   "file_extension": ".py",
   "mimetype": "text/x-python",
   "name": "python",
   "nbconvert_exporter": "python",
   "pygments_lexer": "ipython3",
   "version": "3.12.4"
  }
 },
 "nbformat": 4,
 "nbformat_minor": 5
}
